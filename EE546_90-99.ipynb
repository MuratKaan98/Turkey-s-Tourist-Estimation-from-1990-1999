{
 "cells": [
  {
   "cell_type": "code",
   "execution_count": 2,
   "id": "b76278c0-0da8-4482-aa4a-c78121b4257e",
   "metadata": {},
   "outputs": [
    {
     "name": "stderr",
     "output_type": "stream",
     "text": [
      "<ipython-input-2-a0b8333b9f65>:5: FutureWarning: The pandas.datetime class is deprecated and will be removed from pandas in a future version. Import from datetime module instead.\n",
      "  from pandas import datetime\n"
     ]
    }
   ],
   "source": [
    "from pandas import DataFrame\n",
    "from pandas import Series\n",
    "from pandas import concat\n",
    "from pandas import read_csv\n",
    "from pandas import datetime\n",
    "from sklearn.metrics import mean_squared_error\n",
    "from sklearn.preprocessing import MinMaxScaler\n",
    "from keras.models import Sequential\n",
    "from keras.layers import Dense\n",
    "from keras.layers import LSTM\n",
    "from math import sqrt\n",
    "from matplotlib import pyplot\n",
    "import numpy\n",
    "\n",
    "\n",
    "# date-time parsing function for loading the dataset\n",
    "\n",
    "#Converting Strings to datetime\n",
    "\n",
    "def parser(x):\n",
    "\treturn datetime.strptime('19'+x, '%Y-%m')\n",
    "series = read_csv('Tourists_90-99.csv', header=0, parse_dates=[0], index_col=0, squeeze=True, date_parser=parser)\n",
    "\n",
    "# frame a sequence as a supervised learning problem\n",
    "\n",
    "#The LSTM model in Keras assumes that your data is divided into input (X) and output (y) components.\n",
    "\n",
    "#For a time series problem, we can achieve this by using the observation from the last time step (t-1) as the input and the observation at the current time step (t) as the output.\n",
    "\n",
    "def timeseries_to_supervised(data, lag=1):\n",
    "\tdf = DataFrame(data)\n",
    "\tcolumns = [df.shift(i) for i in range(1, lag+1)]\n",
    "\tcolumns.append(df)\n",
    "\tdf = concat(columns, axis=1)\n",
    "\tdf.fillna(0, inplace=True)\n",
    "\treturn df\n",
    "\n"
   ]
  },
  {
   "cell_type": "code",
   "execution_count": 3,
   "id": "2d2da636-caf1-4411-ac72-46d93882a6b5",
   "metadata": {},
   "outputs": [],
   "source": [
    "#Calculating Difference between series\n",
    "\n",
    "# create a differenced series\n",
    "def difference(dataset, interval=1):\n",
    "\tdiff = list()\n",
    "\tfor i in range(interval, len(dataset)):\n",
    "\t\tvalue = dataset[i] - dataset[i - interval]\n",
    "\t\tdiff.append(value)\n",
    "\treturn Series(diff)\n"
   ]
  },
  {
   "cell_type": "code",
   "execution_count": 4,
   "id": "c2c03d2d-b4e1-4595-8d3e-4c802da1974a",
   "metadata": {},
   "outputs": [],
   "source": [
    "# invert differenced value\n",
    "def inverse_difference(history, yhat, interval=1):\n",
    "\treturn yhat + history[-interval]\n"
   ]
  },
  {
   "cell_type": "code",
   "execution_count": 5,
   "id": "d44cdde7-0195-4b29-bd60-78a62b4f8bc0",
   "metadata": {},
   "outputs": [],
   "source": [
    "#Values must be calculated on the training dataset and applied to scale the test dataset and any forecasts.\n",
    "\n",
    "# scale train and test data to [-1, 1]\n",
    "def scale(train, test):\n",
    "\t# fit scaler\n",
    "\tscaler = MinMaxScaler(feature_range=(-1, 1))\n",
    "\tscaler = scaler.fit(train)\n",
    "\t# transform train\n",
    "\ttrain = train.reshape(train.shape[0], train.shape[1])\n",
    "\ttrain_scaled = scaler.transform(train)\n",
    "\t# transform test\n",
    "\ttest = test.reshape(test.shape[0], test.shape[1])\n",
    "\ttest_scaled = scaler.transform(test)\n",
    "\treturn scaler, train_scaled, test_scaled\n"
   ]
  },
  {
   "cell_type": "code",
   "execution_count": 6,
   "id": "991ad9f4-d68e-4a10-9a22-944d83fb9fd1",
   "metadata": {},
   "outputs": [],
   "source": [
    "# inverse scaling for a forecasted value\n",
    "def invert_scale(scaler, X, value):\n",
    "\tnew_row = [x for x in X] + [value]\n",
    "\tarray = numpy.array(new_row)\n",
    "\tarray = array.reshape(1, len(array))\n",
    "\tinverted = scaler.inverse_transform(array)\n",
    "\treturn inverted[0, -1]\n"
   ]
  },
  {
   "cell_type": "code",
   "execution_count": 7,
   "id": "90a627bc-653c-483e-848c-a7b939649a69",
   "metadata": {},
   "outputs": [],
   "source": [
    "#The line below creates a single LSTM hidden layer that also specifies the expectations of the input layer\n",
    "\n",
    "# fit an LSTM network to training data\n",
    "def fit_lstm(train, batch_size, nb_epoch, neurons):\n",
    "\tX, y = train[:, 0:-1], train[:, -1]\n",
    "\tX = X.reshape(X.shape[0], 1, X.shape[1])\n",
    "\tmodel = Sequential()\n",
    "\tmodel.add(LSTM(neurons, batch_input_shape=(batch_size, X.shape[1], X.shape[2]), stateful=True))\n",
    "\tmodel.add(Dense(1))\n",
    "\tmodel.compile(loss='mean_squared_error', optimizer='adam')\n",
    "\tfor i in range(nb_epoch):\n",
    "\t\tmodel.fit(X, y, epochs=1, batch_size=batch_size, verbose=0, shuffle=False)\n",
    "\t\tmodel.reset_states()\n",
    "\treturn model\n"
   ]
  },
  {
   "cell_type": "code",
   "execution_count": 8,
   "id": "362f78b9-b954-44b9-b598-cd1a046e511e",
   "metadata": {},
   "outputs": [],
   "source": [
    "# make a one-step forecast\n",
    "def forecast_lstm(model, batch_size, X):\n",
    "\tX = X.reshape(1, 1, len(X))\n",
    "\tyhat = model.predict(X, batch_size=batch_size)\n",
    "\treturn yhat[0,0]\n"
   ]
  },
  {
   "cell_type": "code",
   "execution_count": 9,
   "id": "2dca6f10-e222-4e83-812b-2b7a80ab28d8",
   "metadata": {},
   "outputs": [],
   "source": [
    "# load dataset\n",
    "series = read_csv('Tourists_90-99.csv', header=0, parse_dates=[0], index_col=0, squeeze=True, date_parser=parser)\n"
   ]
  },
  {
   "cell_type": "code",
   "execution_count": 10,
   "id": "ab4318b9-1d29-43d1-acf6-b01b24fc06e6",
   "metadata": {},
   "outputs": [],
   "source": [
    "# transform data to be stationary\n",
    "raw_values = series.values\n",
    "diff_values = difference(raw_values, 1)\n"
   ]
  },
  {
   "cell_type": "code",
   "execution_count": 11,
   "id": "66f01f57-1e1e-4140-8783-0ea0dde4ecca",
   "metadata": {},
   "outputs": [],
   "source": [
    "# transform data to be supervised learning\n",
    "supervised = timeseries_to_supervised(diff_values, 1)\n",
    "supervised_values = supervised.values\n"
   ]
  },
  {
   "cell_type": "code",
   "execution_count": 12,
   "id": "ffd33f27-eead-4193-9930-304c94100342",
   "metadata": {},
   "outputs": [],
   "source": [
    "# split data into train and test-sets\n",
    "train, test = supervised_values[0:-12], supervised_values[-12:]\n"
   ]
  },
  {
   "cell_type": "code",
   "execution_count": 13,
   "id": "46401b9c-3119-48ff-9388-d1c8d3a76bb3",
   "metadata": {},
   "outputs": [],
   "source": [
    "# transform the scale of the data\n",
    "scaler, train_scaled, test_scaled = scale(train, test)\n"
   ]
  },
  {
   "cell_type": "code",
   "execution_count": 14,
   "id": "c27f6da9-ebd2-4db3-8478-3b9dbe5745b9",
   "metadata": {},
   "outputs": [
    {
     "data": {
      "text/plain": [
       "array([[ 0.20472434],\n",
       "       [ 0.34944418],\n",
       "       [ 0.16955832],\n",
       "       [ 0.25790057],\n",
       "       [ 0.01171944],\n",
       "       [ 0.07463744],\n",
       "       [ 0.23044375],\n",
       "       [-0.07370728],\n",
       "       [-0.51815784],\n",
       "       [-0.6261995 ],\n",
       "       [-0.04431835],\n",
       "       [ 0.10624734],\n",
       "       [ 0.28798327],\n",
       "       [ 0.39860424],\n",
       "       [ 0.5853931 ],\n",
       "       [ 0.57712173],\n",
       "       [ 0.45014444],\n",
       "       [ 0.46689084],\n",
       "       [ 0.5164983 ],\n",
       "       [ 0.27156016],\n",
       "       [ 0.31284502],\n",
       "       [-0.37141135],\n",
       "       [-0.18550143],\n",
       "       [ 0.0792354 ],\n",
       "       [ 0.2735043 ],\n",
       "       [ 0.52702606],\n",
       "       [ 0.33706638],\n",
       "       [ 0.46374103],\n",
       "       [ 0.4936197 ],\n",
       "       [ 0.30996683],\n",
       "       [ 0.45824912],\n",
       "       [ 0.20999208],\n",
       "       [-0.24191256],\n",
       "       [-0.38620922],\n",
       "       [ 0.21761283],\n",
       "       [ 0.04324496],\n",
       "       [ 0.28429475],\n",
       "       [ 0.5391288 ],\n",
       "       [ 0.4768745 ],\n",
       "       [ 0.40323403],\n",
       "       [ 0.22430214],\n",
       "       [ 0.20993558],\n",
       "       [ 0.28907213],\n",
       "       [ 0.27978012],\n",
       "       [-0.05234876],\n",
       "       [ 0.04438749],\n",
       "       [-0.29516134],\n",
       "       [-0.11431724],\n",
       "       [ 0.16673854],\n",
       "       [ 0.3669764 ],\n",
       "       [ 0.3993527 ],\n",
       "       [ 0.5140866 ],\n",
       "       [ 0.34508684],\n",
       "       [ 0.36670938],\n",
       "       [ 0.47764876],\n",
       "       [ 0.19111255],\n",
       "       [-0.18800429],\n",
       "       [-0.33192852],\n",
       "       [ 0.04795247],\n",
       "       [ 0.04129291],\n",
       "       [ 0.25664178],\n",
       "       [ 0.45518687],\n",
       "       [ 0.45461395],\n",
       "       [ 0.49963644],\n",
       "       [ 0.27878508],\n",
       "       [ 0.39714953],\n",
       "       [ 0.35332224],\n",
       "       [ 0.22195652],\n",
       "       [ 0.20339909],\n",
       "       [-0.47164384],\n",
       "       [ 0.0198051 ],\n",
       "       [-0.08524674],\n",
       "       [ 0.17627689],\n",
       "       [ 0.4224532 ],\n",
       "       [ 0.38277957],\n",
       "       [ 0.4559315 ],\n",
       "       [ 0.22940102],\n",
       "       [ 0.34645233],\n",
       "       [ 0.45280686],\n",
       "       [ 0.13607028],\n",
       "       [ 0.10412452],\n",
       "       [-0.5229188 ],\n",
       "       [-0.00412682],\n",
       "       [-0.07039627],\n",
       "       [ 0.19999912],\n",
       "       [ 0.41368178],\n",
       "       [ 0.41327313],\n",
       "       [ 0.51329863],\n",
       "       [ 0.07723114],\n",
       "       [ 0.38024893],\n",
       "       [ 0.47921118],\n",
       "       [ 0.03946093],\n",
       "       [-0.08224866],\n",
       "       [-0.51953185],\n",
       "       [-0.08253968],\n",
       "       [-0.01847658],\n",
       "       [ 0.2612119 ],\n",
       "       [ 0.67976975],\n",
       "       [ 0.4578772 ],\n",
       "       [ 0.5282272 ],\n",
       "       [ 0.08681229],\n",
       "       [ 0.46078464],\n",
       "       [ 0.34191743],\n",
       "       [ 0.09700301],\n",
       "       [-0.39290354],\n",
       "       [-0.32551852],\n",
       "       [-0.12800911]], dtype=float32)"
      ]
     },
     "execution_count": 14,
     "metadata": {},
     "output_type": "execute_result"
    }
   ],
   "source": [
    "# fit the model\n",
    "lstm_model = fit_lstm(train_scaled, 1, 3000, 4)\n",
    "# forecast the entire training dataset to build up state for forecasting\n",
    "train_reshaped = train_scaled[:, 0].reshape(len(train_scaled), 1, 1)\n",
    "lstm_model.predict(train_reshaped, batch_size=1)\n"
   ]
  },
  {
   "cell_type": "code",
   "execution_count": 15,
   "id": "f102f857-126b-4c15-b6b2-99fea5948851",
   "metadata": {},
   "outputs": [
    {
     "name": "stdout",
     "output_type": "stream",
     "text": [
      "Month=1, Predicted=67012.430199, Expected=359046.000000\n",
      "Month=2, Predicted=541693.298184, Expected=371727.000000\n",
      "Month=3, Predicted=576132.496956, Expected=409483.000000\n",
      "Month=4, Predicted=550936.191297, Expected=426558.000000\n",
      "Month=5, Predicted=578107.412249, Expected=691313.000000\n",
      "Month=6, Predicted=770531.453859, Expected=784642.000000\n",
      "Month=7, Predicted=863803.707358, Expected=931895.000000\n",
      "Month=8, Predicted=1029722.112896, Expected=1079249.000000\n",
      "Month=9, Predicted=1077453.436667, Expected=876261.000000\n",
      "Month=10, Predicted=655566.312007, Expected=800513.000000\n",
      "Month=11, Predicted=536148.189716, Expected=435790.000000\n",
      "Month=12, Predicted=443947.756641, Expected=320808.000000\n"
     ]
    }
   ],
   "source": [
    "# walk-forward validation on the test data\n",
    "predictions = list()\n",
    "for i in range(len(test_scaled)):\n",
    "\t# make one-step forecast\n",
    "\tX, y = test_scaled[i, 0:-1], test_scaled[i, -1]\n",
    "\tyhat = forecast_lstm(lstm_model, 1, X)\n",
    "\t# invert scaling\n",
    "\tyhat = invert_scale(scaler, X, yhat)\n",
    "\t# invert differencing\n",
    "\tyhat = inverse_difference(raw_values, yhat, len(test_scaled)+1-i)\n",
    "\t# store forecast\n",
    "\tpredictions.append(yhat)\n",
    "\texpected = raw_values[len(train) + i + 1]\n",
    "\tprint('Month=%d, Predicted=%f, Expected=%f' % (i+1, yhat, expected))\n"
   ]
  },
  {
   "cell_type": "code",
   "execution_count": 16,
   "id": "46a79f79-61fd-40d5-aa8f-3bdedf140058",
   "metadata": {},
   "outputs": [
    {
     "name": "stdout",
     "output_type": "stream",
     "text": [
      "Test RMSE: 148391.709\n"
     ]
    },
    {
     "data": {
      "image/png": "[encoded data removed]",
      "text/plain": [
       "<Figure size 432x288 with 1 Axes>"
      ]
     },
     "metadata": {
      "needs_background": "light"
     },
     "output_type": "display_data"
    }
   ],
   "source": [
    "# report performance\n",
    "rmse = sqrt(mean_squared_error(raw_values[-12:], predictions))\n",
    "print('Test RMSE: %.3f' % rmse)\n",
    "# line plot of observed vs predicted\n",
    "pyplot.plot(raw_values[-12:])\n",
    "pyplot.plot(predictions)\n",
    "pyplot.show()\n",
    "\n",
    "#Orange line is Predicted values\n",
    "\n",
    "#Blue line is Expected values"
   ]
  },
  {
   "cell_type": "code",
   "execution_count": 17,
   "id": "a8f86f37-e319-47e0-90f4-e772ca81fc0b",
   "metadata": {},
   "outputs": [
    {
     "data": {
      "text/plain": [
       "[<matplotlib.lines.Line2D at 0x2430e339940>]"
      ]
     },
     "execution_count": 17,
     "metadata": {},
     "output_type": "execute_result"
    },
    {
     "data": {
      "image/png": "[encoded data removed]",
      "text/plain": [
       "<Figure size 432x288 with 1 Axes>"
      ]
     },
     "metadata": {
      "needs_background": "light"
     },
     "output_type": "display_data"
    }
   ],
   "source": [
    "pyplot.plot(predictions)"
   ]
  },
  {
   "cell_type": "code",
   "execution_count": null,
   "id": "8b201325-f5a7-4551-927c-e8f8c78fc3c6",
   "metadata": {},
   "outputs": [],
   "source": []
  },
  {
   "cell_type": "code",
   "execution_count": null,
   "id": "a5357722-3f4b-4ef0-9de2-991048e9565e",
   "metadata": {},
   "outputs": [],
   "source": []
  }
 ],
 "metadata": {
  "kernelspec": {
   "display_name": "Python 3 (ipykernel)",
   "language": "python",
   "name": "python3"
  },
  "language_info": {
   "codemirror_mode": {
    "name": "ipython",
    "version": 3
   },
   "file_extension": ".py",
   "mimetype": "text/x-python",
   "name": "python",
   "nbconvert_exporter": "python",
   "pygments_lexer": "ipython3",
   "version": "3.8.12"
  }
 },
 "nbformat": 4,
 "nbformat_minor": 5
}
